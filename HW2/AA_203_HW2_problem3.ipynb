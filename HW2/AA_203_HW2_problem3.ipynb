{
  "nbformat": 4,
  "nbformat_minor": 0,
  "metadata": {
    "colab": {
      "name": "AA 203 HW2 Problem 3.ipynb",
      "provenance": [],
      "collapsed_sections": [],
      "toc_visible": true,
      "authorship_tag": "ABX9TyNyCf6Hcz6EqKa2zQMhRXUQ",
      "include_colab_link": true
    },
    "kernelspec": {
      "name": "python3",
      "display_name": "Python 3"
    },
    "language_info": {
      "name": "python"
    }
  },
  "cells": [
    {
      "cell_type": "markdown",
      "metadata": {
        "id": "view-in-github",
        "colab_type": "text"
      },
      "source": [
        "<a href=\"https://colab.research.google.com/github/kmoy14-stanford/AA203-Homework/blob/master/HW2/AA_203_HW2_problem3.ipynb\" target=\"_parent\"><img src=\"https://colab.research.google.com/assets/colab-badge.svg\" alt=\"Open In Colab\"/></a>"
      ]
    },
    {
      "cell_type": "code",
      "metadata": {
        "id": "YQUNy-s8kQxn"
      },
      "source": [
        "import numpy as np\n",
        "from scipy.integrate import odeint\n",
        "import jax.numpy as jnp\n",
        "import jax\n",
        "import matplotlib.pyplot as plt\n",
        "from tqdm import tqdm\n",
        "import cvxpy as cvx"
      ],
      "execution_count": null,
      "outputs": []
    },
    {
      "cell_type": "code",
      "metadata": {
        "colab": {
          "base_uri": "https://localhost:8080/"
        },
        "id": "fWska8MwkaOY",
        "outputId": "67a91299-a149-48b5-9599-c6918475765f"
      },
      "source": [
        "from google.colab import drive\n",
        "drive.mount('/content/drive')\n",
        "\n",
        "!cp drive/MyDrive/animations.py .\n",
        "\n",
        "# 4/1AY0e-g6gXzIIhdsgvyng2kNQV9-1V_Xio6l7fSI1pNpp1bYgd2Kvh7wYpzo yolo\n",
        "\n",
        "from animations import animate_cartpole"
      ],
      "execution_count": null,
      "outputs": [
        {
          "output_type": "stream",
          "text": [
            "Mounted at /content/drive\n"
          ],
          "name": "stdout"
        }
      ]
    },
    {
      "cell_type": "code",
      "metadata": {
        "id": "bFkhGqIxkotW"
      },
      "source": [
        "@jax.partial(jax.jit, static_argnums=(0,))\n",
        "def linearize(f, x, u):\n",
        "    ###########################################################################\n",
        "    # WRITE YOUR CODE HERE\n",
        "    A, B = jax.jacfwd(f, (0,1))(x,u)\n",
        "    c = f(x,u) - A@x - B@u\n",
        "    ###########################################################################    \n",
        "    return A, B, c"
      ],
      "execution_count": null,
      "outputs": []
    },
    {
      "cell_type": "code",
      "metadata": {
        "id": "5--4XMc5kpeL"
      },
      "source": [
        "def scp(f,Q,R,Q_N,s_star,s0,N,dt,rho,uLB,uUB):\n",
        "\n",
        "    # Outer loop of scp.\n",
        "    # Implement the inner loop in the function scp_iteration. \n",
        "\n",
        "    n = Q.shape[0] # state dimension\n",
        "    m = R.shape[0] # control dimension\n",
        "    eps = 0.01 # termination threshold for scp\n",
        "\n",
        "    # initialize reference rollout s_bar,u_bar\n",
        "    #u_bar = np.random.uniform(-3,3,(N,m))\n",
        "    u_bar = np.zeros((N,m))\n",
        "\n",
        "    s_bar = np.zeros((N+1,n))\n",
        "    s_bar[0] = s0\n",
        "    for k in range(N):\n",
        "        s_bar[k+1] = f(s_bar[k],u_bar[k])\n",
        "\n",
        "\n",
        "    # Compute new state and control via scp.\n",
        "    s, u = scp_iteration(f,Q,R,Q_N,s_bar,u_bar,s_star,s0,N,dt,rho,uLB,uUB)\n",
        "\n",
        "    # run scp until u converges\n",
        "    round = 0\n",
        "    while(np.linalg.norm(u-u_bar,np.inf) > eps):\n",
        "        print(\"round: %s, u update: %s\" % (round, np.linalg.norm(u-u_bar,np.inf)))\n",
        "        round = round+1\n",
        "        s_bar = s\n",
        "        u_bar = u\n",
        "        s,u = scp_iteration(f,Q,R,Q_N,s_bar,u_bar,s_star,s0,N,dt,rho,uLB,uUB)\n",
        "    \n",
        "    return s,u\n"
      ],
      "execution_count": null,
      "outputs": []
    },
    {
      "cell_type": "code",
      "metadata": {
        "id": "XBJDcRMIkugO"
      },
      "source": [
        "def scp_iteration(f,Q,R,Q_N,s_bar,u_bar,s_star,s0,N,dt,rho,uLB,uUB):\n",
        "\n",
        "    ###########################################################################\n",
        "    # WRITE YOUR CODE HERE\n",
        "    # implement one iteration of scp\n",
        "    # HINT: See slides 34-38 of Recitation 1. \n",
        "    n = Q.shape[0] # state dimension\n",
        "    m = R.shape[0] # control dimension  \n",
        "    # System dynamics\n",
        "    A, B, c = jax.vmap(linearize, in_axes=(None, 0, 0))(f, s_bar[:-1], u_bar)\n",
        "    A, B, c = np.array(A), np.array(B), np.array(c)\n",
        "    # Initialize variables\n",
        "    s = cvx.Variable((N+1, n))\n",
        "    u = cvx.Variable((N, m))\n",
        "    # Initialize cost, constraint forms\n",
        "    cost = []\n",
        "    cost.append(cvx.quad_form((s[N]-s_star), Q_N))\n",
        "    constraints = []\n",
        "    constraints.append(s[0] == s0)\n",
        "    for k in range(N):\n",
        "        cost.append(cvx.quad_form((s[k]-s_star), Q))\n",
        "        cost.append(cvx.quad_form(u[k], R))\n",
        "        # constraints.append(u[k] <= uUB)\n",
        "        # constraints.append(u[k] >= uLB)\n",
        "        constraints.append(s[k+1] == (A[k] @ (s[k])  + B[k] @ (u[k])  + c[k]))\n",
        "        constraints.append(cvx.norm_inf(u[k] - u_bar[k]) <= rho)\n",
        "        constraints.append(cvx.norm_inf(s[k] - s_bar[k]) <= rho)\n",
        "    constraints.append(cvx.norm_inf(s[N] - s_bar[N]) <= rho)\n",
        "    constraints.append(u <= uUB)\n",
        "    constraints.append(u >= uLB)\n",
        "    objective = cvx.Minimize(cvx.sum(cost))\n",
        "    prob = cvx.Problem(objective, constraints)\n",
        "    prob.solve()\n",
        "    s_new, u_new = s.value, u.value\n",
        "\n",
        "    ###########################################################################\n",
        "    return s_new,u_new\n"
      ],
      "execution_count": null,
      "outputs": []
    },
    {
      "cell_type": "code",
      "metadata": {
        "id": "Kzh04ljJkxFf"
      },
      "source": [
        "def cartpole(s, u):\n",
        "    \"\"\"Compute the cart-pole state derivative.\"\"\"\n",
        "    mp = 2.     # pendulum mass\n",
        "    mc = 10.    # cart mass\n",
        "    ℓ = 1.      # pendulum length\n",
        "    g = 9.81    # gravitational acceleration\n",
        "\n",
        "    x, θ, dx, dθ = s\n",
        "    sinθ, cosθ = jnp.sin(θ), jnp.cos(θ)\n",
        "    h = mc + mp*(sinθ**2)\n",
        "    ds = jnp.array([\n",
        "        dx,\n",
        "        dθ,\n",
        "        (mp*sinθ*(ℓ*(dθ**2) + g*cosθ) + u[0]) / h,\n",
        "        -((mc + mp)*g*sinθ + mp*ℓ*(dθ**2)*sinθ*cosθ + u[0]*cosθ) / (h*ℓ)\n",
        "    ])\n",
        "    return ds"
      ],
      "execution_count": null,
      "outputs": []
    },
    {
      "cell_type": "code",
      "metadata": {
        "colab": {
          "base_uri": "https://localhost:8080/",
          "height": 1000
        },
        "id": "8_CR_TAykymd",
        "outputId": "a1058a15-29a4-48d5-d14b-b9bcab399b21"
      },
      "source": [
        "if __name__ == '__main__':\n",
        "    # cartpole swing-up simulation parameters\n",
        "    n = 4                                   # state dimension\n",
        "    m = 1                                   # control dimension \n",
        "    goal_state = np.array([0,np.pi,0,0])    # desired upright pendulum state\n",
        "    start_state = np.array([0,0,0,0])       # initial downright pendulum state\n",
        "    dt = 0.1                                # discrete time resolution\n",
        "    T = 8                                   # total simulation time    \n",
        "\n",
        "    # specify cost function\n",
        "    Qf = 1000.*np.eye(4)                    # terminal state cost matrix\n",
        "    Q = np.diag(np.array([10,10,2,2]))      # state cost matrix\n",
        "    R = 2.5*np.eye(1)                       # control cost matrix\n",
        "\n",
        "    # specify cartpole dynamics\n",
        "    f = jax.jit(cartpole)\n",
        "    f_discrete = jax.jit(lambda s, u, dt=dt: s + dt*f(s, u))\n",
        "\n",
        "    # scp parameters \n",
        "    rho = 0.5                               # trust region parameter\n",
        "    uLB = -5.                               # control effort lower bound\n",
        "    uUB = 3.                                # control effort upper bound\n",
        "\n",
        "    # solve swing-up with scp\n",
        "    print('Computing SCP solution ... ', end='')\n",
        "    t = np.arange(0., T, dt)                \n",
        "    N = t.size - 1                          \n",
        "    s,u = scp(f_discrete,Q,R,Qf,goal_state,start_state,N,dt,rho,uLB,uUB) # scp; yours to implement\n",
        "    print('done!')\n",
        "\n",
        "    print('Simulating ...')\n",
        "    for k in tqdm(range(N)):\n",
        "        s[k+1] = f_discrete(s[k],u[k])\n",
        "\n",
        "    # Plot\n",
        "    fig, axes = plt.subplots(1, n+1, dpi=100, figsize=(12, 2))\n",
        "    plt.subplots_adjust(wspace=0.35)\n",
        "    ylabels = (r'$x(t)$', r'$\\theta(t)$',\n",
        "               r'$\\dot{x}(t)$', r'$\\dot{\\theta}(t)$', r'$u(t)$')\n",
        "    for i in range(n):\n",
        "        axes[i].plot(t, s[:, i])\n",
        "        axes[i].set_xlabel(r'$t$')\n",
        "        axes[i].set_ylabel(ylabels[i])\n",
        "    axes[n].plot(t[0:N], u)\n",
        "    axes[n].set_xlabel(r'$t$')\n",
        "    axes[n].set_ylabel(ylabels[n])\n",
        "    plt.savefig('cartpole_scp_swingup.pdf', bbox_inches='tight')\n",
        "    plt.show()\n",
        "\n",
        "    # animate the solution\n",
        "    fig,ani = animate_cartpole(t, s[:,0], s[:,1])\n",
        "    ani.save('cartpole_scp_swingup.mp4', writer='ffmpeg')"
      ],
      "execution_count": null,
      "outputs": [
        {
          "output_type": "stream",
          "text": [
            "Computing SCP solution ... round: 0, u update: 0.5000007213824531\n",
            "round: 1, u update: 0.5000007201397916\n",
            "round: 2, u update: 0.5000002004061123\n",
            "round: 3, u update: 0.5000007158651703\n",
            "round: 4, u update: 0.5000006881799313\n",
            "round: 5, u update: 0.22486294119295636\n",
            "round: 6, u update: 0.3736077397163461\n",
            "round: 7, u update: 0.5000008590009912\n",
            "round: 8, u update: 0.5000001621901451\n",
            "round: 9, u update: 0.5000012511130737\n",
            "round: 10, u update: 0.500000019913956\n",
            "round: 11, u update: 0.4999999297133837\n",
            "round: 12, u update: 0.49999556253349553\n",
            "round: 13, u update: 0.4999956475387991\n",
            "round: 14, u update: 0.4999997044696604\n",
            "round: 15, u update: 0.5001358021330718\n",
            "round: 16, u update: 0.5000872334777398\n",
            "round: 17, u update: 0.3252416863498342\n",
            "round: 18, u update: 0.26312581752781816\n",
            "round: 19, u update: 0.23742428285729278\n",
            "round: 20, u update: 0.21868025767853405\n",
            "round: 21, u update: 0.20423096014001696\n",
            "round: 22, u update: 0.1956870613444816\n",
            "round: 23, u update: 0.1988912535497261\n",
            "round: 24, u update: 0.20467103849925095\n",
            "round: 25, u update: 0.2124126700200537\n",
            "round: 26, u update: 0.2213416970596436\n",
            "round: 27, u update: 0.2366390374641469\n",
            "round: 28, u update: 0.2573291771955076\n",
            "round: 29, u update: 0.2828127901202536\n",
            "round: 30, u update: 0.29046565585282935\n",
            "round: 31, u update: 0.29151591089591244\n",
            "round: 32, u update: 0.3309076273507454\n",
            "round: 33, u update: 0.3813730781593523\n",
            "round: 34, u update: 0.45189886222197906\n",
            "round: 35, u update: 0.49989279109755236\n",
            "round: 36, u update: 0.4999765201218107\n",
            "round: 37, u update: 0.5000003318130983\n",
            "round: 38, u update: 0.5000207918462731\n",
            "round: 39, u update: 0.5000531551539087\n",
            "round: 40, u update: 0.5000633465957871\n",
            "round: 41, u update: 0.5000904543898552\n",
            "round: 42, u update: 0.5000207359526443\n",
            "round: 43, u update: 0.5000515847542673\n",
            "round: 44, u update: 0.5000946025464144\n",
            "round: 45, u update: 0.5000927769412913\n",
            "round: 46, u update: 0.500034950924344\n",
            "round: 47, u update: 0.5001272052784165\n",
            "round: 48, u update: 0.23946951012779483\n",
            "round: 49, u update: 0.19053142410736323\n",
            "round: 50, u update: 0.16100483714693348\n",
            "round: 51, u update: 0.11882701978460197\n",
            "round: 52, u update: 0.08947997479834058\n",
            "round: 53, u update: 0.0724273652590659\n",
            "round: 54, u update: 0.050428335998923934\n",
            "round: 55, u update: 0.03818813977162083\n",
            "round: 56, u update: 0.02612371136623448\n",
            "round: 57, u update: 0.029611709140010767\n",
            "round: 58, u update: 0.018181644006189934\n",
            "round: 59, u update: 0.013184204790422704\n",
            "round: 60, u update: 0.013071172268353415\n"
          ],
          "name": "stdout"
        },
        {
          "output_type": "stream",
          "text": [
            "100%|██████████| 79/79 [00:00<00:00, 7978.57it/s]"
          ],
          "name": "stderr"
        },
        {
          "output_type": "stream",
          "text": [
            "done!\n",
            "Simulating ...\n"
          ],
          "name": "stdout"
        },
        {
          "output_type": "stream",
          "text": [
            "\n"
          ],
          "name": "stderr"
        },
        {
          "output_type": "display_data",
          "data": {
            "image/png": "[encoded data removed]",
            "text/plain": [
              "<Figure size 1200x200 with 5 Axes>"
            ]
          },
          "metadata": {
            "tags": [],
            "needs_background": "light"
          }
        },
        {
          "output_type": "display_data",
          "data": {
            "image/png": "[encoded data removed]",
            "text/plain": [
              "<Figure size 600x400 with 1 Axes>"
            ]
          },
          "metadata": {
            "tags": [],
            "needs_background": "light"
          }
        }
      ]
    },
    {
      "cell_type": "code",
      "metadata": {
        "id": "EPEiaa0ul9Dm"
      },
      "source": [
        ""
      ],
      "execution_count": null,
      "outputs": []
    }
  ]
}